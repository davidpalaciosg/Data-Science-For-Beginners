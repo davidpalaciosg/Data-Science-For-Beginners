{
 "cells": [
  {
   "cell_type": "markdown",
   "metadata": {},
   "source": [
    "## Introduction to Probability and Statistics\n",
    "## Assignment\n",
    "\n",
    "In this assignment, we will use the dataset of diabetes patients taken [from here](https://www4.stat.ncsu.edu/~boos/var.select/diabetes.html)."
   ]
  },
  {
   "cell_type": "code",
   "execution_count": 6,
   "metadata": {},
   "outputs": [
    {
     "data": {
      "text/html": [
       "<div>\n",
       "<style scoped>\n",
       "    .dataframe tbody tr th:only-of-type {\n",
       "        vertical-align: middle;\n",
       "    }\n",
       "\n",
       "    .dataframe tbody tr th {\n",
       "        vertical-align: top;\n",
       "    }\n",
       "\n",
       "    .dataframe thead th {\n",
       "        text-align: right;\n",
       "    }\n",
       "</style>\n",
       "<table border=\"1\" class=\"dataframe\">\n",
       "  <thead>\n",
       "    <tr style=\"text-align: right;\">\n",
       "      <th></th>\n",
       "      <th>AGE</th>\n",
       "      <th>SEX</th>\n",
       "      <th>BMI</th>\n",
       "      <th>BP</th>\n",
       "      <th>S1</th>\n",
       "      <th>S2</th>\n",
       "      <th>S3</th>\n",
       "      <th>S4</th>\n",
       "      <th>S5</th>\n",
       "      <th>S6</th>\n",
       "      <th>Y</th>\n",
       "    </tr>\n",
       "  </thead>\n",
       "  <tbody>\n",
       "    <tr>\n",
       "      <th>0</th>\n",
       "      <td>59</td>\n",
       "      <td>2</td>\n",
       "      <td>32.1</td>\n",
       "      <td>101.0</td>\n",
       "      <td>157</td>\n",
       "      <td>93.2</td>\n",
       "      <td>38.0</td>\n",
       "      <td>4.0</td>\n",
       "      <td>4.8598</td>\n",
       "      <td>87</td>\n",
       "      <td>151</td>\n",
       "    </tr>\n",
       "    <tr>\n",
       "      <th>1</th>\n",
       "      <td>48</td>\n",
       "      <td>1</td>\n",
       "      <td>21.6</td>\n",
       "      <td>87.0</td>\n",
       "      <td>183</td>\n",
       "      <td>103.2</td>\n",
       "      <td>70.0</td>\n",
       "      <td>3.0</td>\n",
       "      <td>3.8918</td>\n",
       "      <td>69</td>\n",
       "      <td>75</td>\n",
       "    </tr>\n",
       "    <tr>\n",
       "      <th>2</th>\n",
       "      <td>72</td>\n",
       "      <td>2</td>\n",
       "      <td>30.5</td>\n",
       "      <td>93.0</td>\n",
       "      <td>156</td>\n",
       "      <td>93.6</td>\n",
       "      <td>41.0</td>\n",
       "      <td>4.0</td>\n",
       "      <td>4.6728</td>\n",
       "      <td>85</td>\n",
       "      <td>141</td>\n",
       "    </tr>\n",
       "    <tr>\n",
       "      <th>3</th>\n",
       "      <td>24</td>\n",
       "      <td>1</td>\n",
       "      <td>25.3</td>\n",
       "      <td>84.0</td>\n",
       "      <td>198</td>\n",
       "      <td>131.4</td>\n",
       "      <td>40.0</td>\n",
       "      <td>5.0</td>\n",
       "      <td>4.8903</td>\n",
       "      <td>89</td>\n",
       "      <td>206</td>\n",
       "    </tr>\n",
       "    <tr>\n",
       "      <th>4</th>\n",
       "      <td>50</td>\n",
       "      <td>1</td>\n",
       "      <td>23.0</td>\n",
       "      <td>101.0</td>\n",
       "      <td>192</td>\n",
       "      <td>125.4</td>\n",
       "      <td>52.0</td>\n",
       "      <td>4.0</td>\n",
       "      <td>4.2905</td>\n",
       "      <td>80</td>\n",
       "      <td>135</td>\n",
       "    </tr>\n",
       "  </tbody>\n",
       "</table>\n",
       "</div>"
      ],
      "text/plain": [
       "   AGE  SEX   BMI     BP   S1     S2    S3   S4      S5  S6    Y\n",
       "0   59    2  32.1  101.0  157   93.2  38.0  4.0  4.8598  87  151\n",
       "1   48    1  21.6   87.0  183  103.2  70.0  3.0  3.8918  69   75\n",
       "2   72    2  30.5   93.0  156   93.6  41.0  4.0  4.6728  85  141\n",
       "3   24    1  25.3   84.0  198  131.4  40.0  5.0  4.8903  89  206\n",
       "4   50    1  23.0  101.0  192  125.4  52.0  4.0  4.2905  80  135"
      ]
     },
     "execution_count": 6,
     "metadata": {},
     "output_type": "execute_result"
    }
   ],
   "source": [
    "import pandas as pd\n",
    "import numpy as np\n",
    "import matplotlib.pyplot as plt\n",
    "\n",
    "df = pd.read_csv(\"../../data/diabetes.tsv\",sep='\\t')\n",
    "df.head()"
   ]
  },
  {
   "cell_type": "markdown",
   "metadata": {},
   "source": [
    "\n",
    "In this dataset, columns as the following:\n",
    "* Age and Sex are self-explanatory\n",
    "* BMI is body mass index\n",
    "* BP is average blood pressure\n",
    "* S1 through S6 are different blood measurements\n",
    "* Y is the qualitative measure of disease progression over one year\n",
    "\n",
    "Let's study this dataset using methods of probability and statistics.\n",
    "\n",
    "### Task 1: Compute mean values and variance for all values"
   ]
  },
  {
   "cell_type": "code",
   "execution_count": 5,
   "metadata": {},
   "outputs": [
    {
     "name": "stdout",
     "output_type": "stream",
     "text": [
      "AGE: Mean = 48.51809954751131, Variance = 171.84661043904742, Standard Deviation = 13.109027822041092\n",
      "SEX: Mean = 1.4683257918552035, Variance = 0.2495613630067412, Standard Deviation = 0.4995611704353544\n",
      "BMI: Mean = 26.37579185520362, Variance = 19.519798124377957, Standard Deviation = 4.4181215606157735\n",
      "BP: Mean = 94.64701357466062, Variance = 191.30440103836406, Standard Deviation = 13.831283419782999\n",
      "S1: Mean = 189.14027149321268, Variance = 1197.7172407424507, Standard Deviation = 34.60805167504306\n",
      "S2: Mean = 115.43914027149322, Variance = 924.9554940437713, Standard Deviation = 30.413080969276546\n",
      "S3: Mean = 49.78846153846154, Variance = 167.2935853828711, Standard Deviation = 12.934202154863327\n",
      "S4: Mean = 4.070248868778281, Variance = 1.6652609356563137, Standard Deviation = 1.2904498966082774\n",
      "S5: Mean = 4.641410859728507, Variance = 0.2728918982944973, Standard Deviation = 0.5223905610694907\n",
      "S6: Mean = 91.26018099547511, Variance = 132.16571243882169, Standard Deviation = 11.496334739334172\n",
      "Y: Mean = 152.13348416289594, Variance = 5943.331347923785, Standard Deviation = 77.09300453299109\n"
     ]
    }
   ],
   "source": [
    "#Age\n",
    "for key in df.keys():\n",
    "    mean = df[key].mean()\n",
    "    var = df[key].var()\n",
    "    std = df[key].std()\n",
    "    print(f\"{key}: Mean = {mean}, Variance = {var}, Standard Deviation = {std}\")"
   ]
  },
  {
   "cell_type": "markdown",
   "metadata": {},
   "source": [
    "### Task 2: Plot boxplots for BMI, BP and Y depending on gender"
   ]
  },
  {
   "cell_type": "code",
   "execution_count": 11,
   "metadata": {},
   "outputs": [
    {
     "data": {
      "image/png": "[encoded data removed]",
      "text/plain": [
       "<Figure size 432x288 with 1 Axes>"
      ]
     },
     "metadata": {
      "needs_background": "light"
     },
     "output_type": "display_data"
    }
   ],
   "source": [
    "df.boxplot(column='BMI',by='SEX',vert=False)\n",
    "plt.show()"
   ]
  },
  {
   "cell_type": "code",
   "execution_count": 12,
   "metadata": {},
   "outputs": [
    {
     "data": {
      "image/png": "[encoded data removed]",
      "text/plain": [
       "<Figure size 432x288 with 1 Axes>"
      ]
     },
     "metadata": {
      "needs_background": "light"
     },
     "output_type": "display_data"
    }
   ],
   "source": [
    "df.boxplot(column='BP',by='SEX',vert=False)\n",
    "plt.show()"
   ]
  },
  {
   "cell_type": "code",
   "execution_count": 13,
   "metadata": {},
   "outputs": [
    {
     "data": {
      "image/png": "[encoded data removed]",
      "text/plain": [
       "<Figure size 432x288 with 1 Axes>"
      ]
     },
     "metadata": {
      "needs_background": "light"
     },
     "output_type": "display_data"
    }
   ],
   "source": [
    "df.boxplot(column='Y',by='SEX',vert=False)\n",
    "plt.show()"
   ]
  },
  {
   "cell_type": "markdown",
   "metadata": {},
   "source": [
    "### Task 3: What is the the distribution of Age, Sex, BMI and Y variables?"
   ]
  },
  {
   "cell_type": "code",
   "execution_count": 16,
   "metadata": {},
   "outputs": [
    {
     "data": {
      "image/png": "[encoded data removed]",
      "text/plain": [
       "<Figure size 432x288 with 1 Axes>"
      ]
     },
     "metadata": {
      "needs_background": "light"
     },
     "output_type": "display_data"
    }
   ],
   "source": [
    "#AGE\n",
    "\n",
    "df['AGE'].hist(bins=15)\n",
    "plt.suptitle('Age distribution of diabetes patients')\n",
    "plt.xlabel('Age')\n",
    "plt.ylabel('Count')\n",
    "plt.show()\n",
    "\n",
    "#Answer: Normal distribution"
   ]
  },
  {
   "cell_type": "code",
   "execution_count": 19,
   "metadata": {},
   "outputs": [
    {
     "data": {
      "image/png": "[encoded data removed]",
      "text/plain": [
       "<Figure size 432x288 with 1 Axes>"
      ]
     },
     "metadata": {
      "needs_background": "light"
     },
     "output_type": "display_data"
    }
   ],
   "source": [
    "#SEX\n",
    "\n",
    "df['SEX'].hist(bins=10)\n",
    "plt.suptitle('Sex distribution of diabetes patients')\n",
    "plt.xlabel('Sex')\n",
    "plt.ylabel('Count')\n",
    "plt.show()\n",
    "\n",
    "#Answer: Continuous Uniform Distribution"
   ]
  },
  {
   "cell_type": "code",
   "execution_count": 21,
   "metadata": {},
   "outputs": [
    {
     "data": {
      "image/png": "[encoded data removed]",
      "text/plain": [
       "<Figure size 432x288 with 1 Axes>"
      ]
     },
     "metadata": {
      "needs_background": "light"
     },
     "output_type": "display_data"
    }
   ],
   "source": [
    "#BMI\n",
    "\n",
    "df['BMI'].hist(bins=15)\n",
    "plt.suptitle('BMI distribution of diabetes patients')\n",
    "plt.xlabel('BMI')\n",
    "plt.ylabel('Count')\n",
    "plt.show()\n",
    "\n",
    "#Answer: Normal distribution"
   ]
  },
  {
   "cell_type": "markdown",
   "metadata": {},
   "source": [
    "### Task 4: Test the correlation between different variables and disease progression (Y)\n",
    "\n",
    "> **Hint** Correlation matrix would give you the most useful information on which values are dependent."
   ]
  },
  {
   "cell_type": "code",
   "execution_count": 37,
   "metadata": {},
   "outputs": [
    {
     "name": "stdout",
     "output_type": "stream",
     "text": [
      "Correlation between BMI and Age: \n",
      "Covariance matrix:\n",
      "[[171.84661044  10.71960015]\n",
      " [ 10.71960015  19.51979812]]\n",
      "Covariance = 10.719600147751404\n",
      "Correlation = 0.18508466614655544\n",
      "*********************************************************\n",
      "Correlation between BMI and BP: \n",
      "Covariance matrix:\n",
      "[[191.30440104  24.16288446]\n",
      " [ 24.16288446  19.51979812]]\n",
      "Covariance = 24.16288445634665\n",
      "Correlation = 0.3954108987177128\n",
      "*********************************************************\n",
      "Correlation between SEX and Y: \n",
      "Covariance matrix:\n",
      "[[2.49561363e-01 1.65843260e+00]\n",
      " [1.65843260e+00 5.94333135e+03]]\n",
      "Covariance = 1.658432603810755\n",
      "Correlation = 0.04306199845160536\n"
     ]
    }
   ],
   "source": [
    "age = df['AGE']\n",
    "bmi = df['BMI']\n",
    "bp = df['BP']\n",
    "y = df['Y']\n",
    "sex = df['SEX']\n",
    "\n",
    "print(\"Correlation between BMI and Age: \")\n",
    "print(f\"Covariance matrix:\\n{np.cov(age,bmi)}\")\n",
    "print(f\"Covariance = {np.cov(age,bmi)[0,1]}\")\n",
    "print(f\"Correlation = {np.corrcoef(age,bmi)[0,1]}\")\n",
    "print(\"*********************************************************\")\n",
    "print(\"Correlation between BMI and BP: \")\n",
    "print(f\"Covariance matrix:\\n{np.cov(bp,bmi)}\")\n",
    "print(f\"Covariance = {np.cov(bp,bmi)[0,1]}\")\n",
    "print(f\"Correlation = {np.corrcoef(bp,bmi)[0,1]}\")\n",
    "print(\"*********************************************************\")\n",
    "print(\"Correlation between SEX and Y: \")\n",
    "print(f\"Covariance matrix:\\n{np.cov(sex,y)}\")\n",
    "print(f\"Covariance = {np.cov(sex,y)[0,1]}\")\n",
    "print(f\"Correlation = {np.corrcoef(sex,y.fillna(method='pad'))[0,1]}\")"
   ]
  },
  {
   "cell_type": "markdown",
   "metadata": {},
   "source": [
    "### Task 5: Test the hypothesis that the degree of diabetes progression is different between men and women"
   ]
  },
  {
   "cell_type": "code",
   "execution_count": 38,
   "metadata": {},
   "outputs": [],
   "source": [
    "import scipy.stats\n",
    "\n",
    "def mean_confidence_interval(data, confidence=0.95):\n",
    "    a = 1.0 * np.array(data)\n",
    "    n = len(a)\n",
    "    m, se = np.mean(a), scipy.stats.sem(a)\n",
    "    h = se * scipy.stats.t.ppf((1 + confidence) / 2., n-1)\n",
    "    return m, h"
   ]
  },
  {
   "cell_type": "code",
   "execution_count": 42,
   "metadata": {},
   "outputs": [
    {
     "name": "stdout",
     "output_type": "stream",
     "text": [
      "Conf=0.85, Mens degree of diabetes progression: 141.87..156.17, Women degree of diabetes progression: 147.79..163.55\n",
      "Conf=0.90, Mens degree of diabetes progression: 140.84..157.20, Women degree of diabetes progression: 146.66..164.68\n",
      "Conf=0.95, Mens degree of diabetes progression: 139.27..158.78, Women degree of diabetes progression: 144.92..166.42\n",
      "The degree of womens diabetes progression is higher than mens\n"
     ]
    }
   ],
   "source": [
    "for p in [0.85,0.9,0.95]:\n",
    "    m1, h1 = mean_confidence_interval(df.loc[df['SEX']==1,['Y']],p)\n",
    "    m2, h2 = mean_confidence_interval(df.loc[df['SEX']==2,['Y']],p)\n",
    "    print(f'Conf={p:.2f}, Mens degree of diabetes progression: {m1-h1[0]:.2f}..{m1+h1[0]:.2f}, Women degree of diabetes progression: {m2-h2[0]:.2f}..{m2+h2[0]:.2f}')\n",
    "\n",
    "print(\"The degree of womens diabetes progression is higher than mens\")"
   ]
  }
 ],
 "metadata": {
  "interpreter": {
   "hash": "3b7e9cb8e453d6cda0fe8c8dd13f891a1f09162f0e7c66ffeae7751a7aecf00d"
  },
  "kernelspec": {
   "display_name": "Python 3.10.4 64-bit (windows store)",
   "language": "python",
   "name": "python3"
  },
  "language_info": {
   "codemirror_mode": {
    "name": "ipython",
    "version": 3
   },
   "file_extension": ".py",
   "mimetype": "text/x-python",
   "name": "python",
   "nbconvert_exporter": "python",
   "pygments_lexer": "ipython3",
   "version": "3.10.4"
  },
  "orig_nbformat": 4
 },
 "nbformat": 4,
 "nbformat_minor": 2
}
